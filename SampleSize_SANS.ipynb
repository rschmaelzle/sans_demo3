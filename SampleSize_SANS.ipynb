{
 "cells": [
  {
   "cell_type": "markdown",
   "metadata": {},
   "source": [
    "## Computing the sample size at SANS\n",
    "\n",
    "- inspired by C Gorgolewski's talk at SANS preconference 2017\n",
    "- and Poldrack, 2017 NRN figure/analysis: https://github.com/poldracklab/ScanningTheHorizon/blob/master/Figure1_Power/fig_power.ipynb\n"
   ]
  },
  {
   "cell_type": "code",
   "execution_count": 1,
   "metadata": {
    "collapsed": false
   },
   "outputs": [],
   "source": [
    "import os, csv, re\n",
    "import numpy as np\n",
    "import matplotlib.pyplot as plt\n",
    "import seaborn as sns\n",
    "import pandas as pd\n",
    "\n",
    "%matplotlib inline"
   ]
  },
  {
   "cell_type": "markdown",
   "metadata": {},
   "source": [
    "setting up the files (I converted to txt for ease of use)"
   ]
  },
  {
   "cell_type": "code",
   "execution_count": 2,
   "metadata": {
    "collapsed": false
   },
   "outputs": [],
   "source": [
    "path  = \"/Users/Ralf/Desktop/sans_demo3/sans_programs/\"\n",
    "files = [ 'sans2017.txt', \n",
    "         'sans2016.txt', \n",
    "         'sans2015.txt', \n",
    "         'sans2014.txt', \n",
    "         'sans2013.txt', \n",
    "         'sans2012.txt', \n",
    "         'sans2010.txt', \n",
    "         'sans2009.txt', \n",
    "         'sans2008.txt', \n",
    "         'sans2007.txt']\n",
    "files.reverse()"
   ]
  },
  {
   "cell_type": "markdown",
   "metadata": {},
   "source": [
    "define a crude function to extract the Ns"
   ]
  },
  {
   "cell_type": "code",
   "execution_count": 3,
   "metadata": {
    "collapsed": false
   },
   "outputs": [],
   "source": [
    "def extract_numbers(infile):\n",
    "    text_file = open(infile, \"r\")\n",
    "    lines = text_file.readlines()\n",
    "    #print len(lines)\n",
    "    text_file.close()\n",
    "\n",
    "    numbers = []\n",
    "    for i in range(len(lines)):\n",
    "        curr_line = lines[i]\n",
    "        match = re.search(r'N=(\\d+)', curr_line)\n",
    "        if (match != None):\n",
    "            #print(curr_line)\n",
    "            numbers.append(match.group(0).strip('N='))\n",
    "            #print(match.group(0))\n",
    "\n",
    "        match = re.search(r'N = (\\d+)', curr_line)\n",
    "        if (match != None):\n",
    "            #print(curr_line)\n",
    "            numbers.append(match.group(0).strip('N ='))\n",
    "            #print(match.group(0))\n",
    "\n",
    "        match = re.search(r'n = (\\d+)', curr_line)\n",
    "        if (match != None):\n",
    "            #print(curr_line)\n",
    "            numbers.append(match.group(0).strip('n ='))\n",
    "            #print(match.group(0))    \n",
    "            \n",
    "        match = re.search(r'n=(\\d+)', curr_line)\n",
    "        if (match != None):\n",
    "            #print(curr_line)\n",
    "            numbers.append(match.group(0).strip('n='))\n",
    "            #print(match.group(0))    \n",
    "            \n",
    "    nns = np.asarray(numbers, dtype = int)    \n",
    "    return nns"
   ]
  },
  {
   "cell_type": "markdown",
   "metadata": {},
   "source": [
    "loop that function over the year's files and append the result\n",
    "set up a dataframe and put the result into it"
   ]
  },
  {
   "cell_type": "code",
   "execution_count": 4,
   "metadata": {
    "collapsed": false
   },
   "outputs": [
    {
     "name": "stderr",
     "output_type": "stream",
     "text": [
      "/Users/Ralf/anaconda/lib/python2.7/site-packages/numpy/core/fromnumeric.py:2889: RuntimeWarning: Mean of empty slice.\n",
      "  out=out, **kwargs)\n",
      "/Users/Ralf/anaconda/lib/python2.7/site-packages/numpy/core/_methods.py:80: RuntimeWarning: invalid value encountered in double_scalars\n",
      "  ret = ret.dtype.type(ret / rcount)\n"
     ]
    }
   ],
   "source": [
    "nums = []\n",
    "for i in files:\n",
    "    my_file = path + i\n",
    "    #print(my_file)\n",
    "    nums.append(np.median(extract_numbers(my_file) ))\n",
    "    \n",
    "df = pd.DataFrame()\n",
    "df['years']= np.array((2007,2008,2009,2010,2012,2013,2014,2015,2016,2017))\n",
    "df['median'] = nums"
   ]
  },
  {
   "cell_type": "markdown",
   "metadata": {},
   "source": [
    "plot the results (with a tentative reg -line :-) )"
   ]
  },
  {
   "cell_type": "code",
   "execution_count": 5,
   "metadata": {
    "collapsed": false
   },
   "outputs": [
    {
     "data": {
      "image/png": "[encoded data removed]",
      "text/plain": [
       "<matplotlib.figure.Figure at 0x113f9b6d0>"
      ]
     },
     "metadata": {},
     "output_type": "display_data"
    }
   ],
   "source": [
    "sns.regplot(x = 'years', y = 'median', data=df);\n",
    "plt.ylabel('Median Sample Size');\n",
    "plt.xlabel('Year');\n",
    "\n",
    "#plt.plot(nums)"
   ]
  }
 ],
 "metadata": {
  "kernelspec": {
   "display_name": "Python 2",
   "language": "python",
   "name": "python2"
  },
  "language_info": {
   "codemirror_mode": {
    "name": "ipython",
    "version": 2
   },
   "file_extension": ".py",
   "mimetype": "text/x-python",
   "name": "python",
   "nbconvert_exporter": "python",
   "pygments_lexer": "ipython2",
   "version": "2.7.12"
  }
 },
 "nbformat": 4,
 "nbformat_minor": 2
}
